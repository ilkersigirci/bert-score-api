{
 "cells": [
  {
   "cell_type": "code",
   "execution_count": 1,
   "metadata": {},
   "outputs": [
    {
     "data": {
      "text/plain": [
       "True"
      ]
     },
     "execution_count": 1,
     "metadata": {},
     "output_type": "execute_result"
    }
   ],
   "source": [
    "from dotenv import load_dotenv\n",
    "\n",
    "load_dotenv()"
   ]
  },
  {
   "cell_type": "markdown",
   "metadata": {},
   "source": [
    "## Downloaded Model"
   ]
  },
  {
   "cell_type": "code",
   "execution_count": 2,
   "metadata": {},
   "outputs": [],
   "source": [
    "import os\n",
    "\n",
    "LIBRARY_BASE_PATH = os.environ[\"LIBRARY_BASE_PATH\"]\n",
    "\n",
    "model_name = \"dbmdz/bert-base-turkish-cased\"\n",
    "model_abs_path = f\"{LIBRARY_BASE_PATH}/deployment/models/{model_name.split('/')[1]}\""
   ]
  },
  {
   "cell_type": "code",
   "execution_count": 3,
   "metadata": {},
   "outputs": [
    {
     "name": "stderr",
     "output_type": "stream",
     "text": [
      "/home/ilker/Documents/MyRepos/bert-score-api/.venv/lib/python3.11/site-packages/tqdm/auto.py:21: TqdmWarning: IProgress not found. Please update jupyter and ipywidgets. See https://ipywidgets.readthedocs.io/en/stable/user_install.html\n",
      "  from .autonotebook import tqdm as notebook_tqdm\n"
     ]
    }
   ],
   "source": [
    "from transformers import AutoModel\n",
    "\n",
    "model = AutoModel.from_pretrained(model_abs_path)"
   ]
  },
  {
   "cell_type": "code",
   "execution_count": 3,
   "metadata": {},
   "outputs": [
    {
     "name": "stderr",
     "output_type": "stream",
     "text": [
      "/home/ilker/Documents/MyRepos/bert-score-api/.venv/lib/python3.11/site-packages/tqdm/auto.py:21: TqdmWarning: IProgress not found. Please update jupyter and ipywidgets. See https://ipywidgets.readthedocs.io/en/stable/user_install.html\n",
      "  from .autonotebook import tqdm as notebook_tqdm\n"
     ]
    }
   ],
   "source": [
    "# NOTE: Not working using absolute path. It is a bug in the library.\n",
    "\n",
    "from bert_score import BERTScorer\n",
    "\n",
    "scorer = BERTScorer(model_type=model_name, lang=\"tr\", rescale_with_baseline=True)"
   ]
  },
  {
   "cell_type": "code",
   "execution_count": null,
   "metadata": {},
   "outputs": [],
   "source": [
    "candidates = [\"The quick brown fox jumps over the lazy dog\", \"This is a sample test\"]\n",
    "references = [\"A fast brown fox leaps over a lazy dog\", \"For example purposes\"]\n",
    "\n",
    "scorer.score(candidates, references)"
   ]
  },
  {
   "cell_type": "markdown",
   "metadata": {},
   "source": [
    "## Test the API"
   ]
  },
  {
   "cell_type": "code",
   "execution_count": 2,
   "metadata": {},
   "outputs": [],
   "source": [
    "import httpx\n",
    "\n",
    "\n",
    "def get_bert_score(candidates: list[str], references: list[str]) -> dict:\n",
    "    url = \"http://localhost:8888/score_calculation/all\"\n",
    "\n",
    "    data = {\n",
    "        \"candidate\": candidates,\n",
    "        \"reference\": references,\n",
    "    }\n",
    "\n",
    "    response = httpx.post(url, json=data)\n",
    "\n",
    "    return response.json()\n"
   ]
  },
  {
   "cell_type": "code",
   "execution_count": 11,
   "metadata": {},
   "outputs": [
    {
     "data": {
      "text/plain": [
       "{'precision': [0.8399680852890015, 0.5356022715568542],\n",
       " 'recall': [0.8359646797180176, 0.5197705626487732],\n",
       " 'f1': [0.8379616141319275, 0.5275676846504211]}"
      ]
     },
     "execution_count": 11,
     "metadata": {},
     "output_type": "execute_result"
    }
   ],
   "source": [
    "candidates = [\"The quick brown fox jumps over the lazy dog\", \"This is a sample test\"]\n",
    "references = [\"A fast brown fox leaps over a lazy dog\", \"For example purposes\"]\n",
    "\n",
    "get_bert_score(candidates, references)"
   ]
  },
  {
   "cell_type": "code",
   "execution_count": null,
   "metadata": {},
   "outputs": [],
   "source": []
  }
 ],
 "metadata": {
  "kernelspec": {
   "display_name": ".venv",
   "language": "python",
   "name": "python3"
  },
  "language_info": {
   "codemirror_mode": {
    "name": "ipython",
    "version": 3
   },
   "file_extension": ".py",
   "mimetype": "text/x-python",
   "name": "python",
   "nbconvert_exporter": "python",
   "pygments_lexer": "ipython3",
   "version": "3.11.7"
  }
 },
 "nbformat": 4,
 "nbformat_minor": 2
}
